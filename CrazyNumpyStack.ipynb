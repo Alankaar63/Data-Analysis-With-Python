{
  "cells": [
    {
      "cell_type": "markdown",
      "metadata": {
        "id": "view-in-github",
        "colab_type": "text"
      },
      "source": [
        "<a href=\"https://colab.research.google.com/github/Lawkage1/Data-Analysis-With-Python-/blob/main/CrazyNumpyStack.ipynb\" target=\"_parent\"><img src=\"https://colab.research.google.com/assets/colab-badge.svg\" alt=\"Open In Colab\"/></a>"
      ]
    },
    {
      "cell_type": "code",
      "execution_count": null,
      "metadata": {
        "id": "87Lc05_8itXd"
      },
      "outputs": [],
      "source": [
        "#PREQUISITE FOR DEEP LEARNING"
      ]
    },
    {
      "cell_type": "markdown",
      "metadata": {
        "id": "nrkK6j3bizVp"
      },
      "source": [
        "# **Numpy**"
      ]
    },
    {
      "cell_type": "markdown",
      "metadata": {
        "id": "0rgl1I7ijH2M"
      },
      "source": [
        "# Arrays vs List"
      ]
    },
    {
      "cell_type": "code",
      "execution_count": null,
      "metadata": {
        "id": "6Ulr8130jK2r"
      },
      "outputs": [],
      "source": [
        "import numpy as np\n"
      ]
    },
    {
      "cell_type": "code",
      "execution_count": null,
      "metadata": {
        "colab": {
          "base_uri": "https://localhost:8080/"
        },
        "id": "7AP-gdmijPP8",
        "outputId": "f72f5b16-c1bc-4f29-f648-29edd9ef299b"
      },
      "outputs": [
        {
          "name": "stdout",
          "output_type": "stream",
          "text": [
            "[1, 2, 3, 4]\n"
          ]
        }
      ],
      "source": [
        "L = [1,2,3,4]\n",
        "print(L)"
      ]
    },
    {
      "cell_type": "code",
      "execution_count": null,
      "metadata": {
        "colab": {
          "base_uri": "https://localhost:8080/"
        },
        "id": "oNlTM4ldjVXB",
        "outputId": "1b3a0005-db5a-41d8-890f-8dbd93803e3d"
      },
      "outputs": [
        {
          "name": "stdout",
          "output_type": "stream",
          "text": [
            "[1 2 3 4]\n"
          ]
        }
      ],
      "source": [
        "A = np.array([1,2,3,4])\n",
        "print(A)"
      ]
    },
    {
      "cell_type": "code",
      "execution_count": null,
      "metadata": {
        "colab": {
          "base_uri": "https://localhost:8080/"
        },
        "id": "eK61Wlo7ja9j",
        "outputId": "6776e8da-10ed-490d-f519-a8a3f1fdf323"
      },
      "outputs": [
        {
          "data": {
            "text/plain": [
              "[1, 2, 3, 4, 5]"
            ]
          },
          "execution_count": 7,
          "metadata": {},
          "output_type": "execute_result"
        }
      ],
      "source": [
        "L+[5]\n"
      ]
    },
    {
      "cell_type": "code",
      "execution_count": null,
      "metadata": {
        "colab": {
          "base_uri": "https://localhost:8080/"
        },
        "id": "WVy4AO1Ejknn",
        "outputId": "ec4502d1-3f3a-4167-c451-f89066bc7e10"
      },
      "outputs": [
        {
          "data": {
            "text/plain": [
              "array([6, 7, 8, 9])"
            ]
          },
          "execution_count": 8,
          "metadata": {},
          "output_type": "execute_result"
        }
      ],
      "source": [
        "A+np.array([5])"
      ]
    },
    {
      "cell_type": "code",
      "execution_count": null,
      "metadata": {
        "colab": {
          "base_uri": "https://localhost:8080/"
        },
        "id": "QStpbQ0yjy45",
        "outputId": "06bf839f-0281-4025-ec02-358d3d34fb63"
      },
      "outputs": [
        {
          "data": {
            "text/plain": [
              "array([ 6,  8, 10, 12])"
            ]
          },
          "execution_count": 9,
          "metadata": {},
          "output_type": "execute_result"
        }
      ],
      "source": [
        "A+np.array([5,6,7,8]) #you cant add vectors of different sizes i.e., 1 2 3 with 4 5"
      ]
    },
    {
      "cell_type": "code",
      "execution_count": null,
      "metadata": {
        "colab": {
          "base_uri": "https://localhost:8080/"
        },
        "id": "j_jmz10yksDh",
        "outputId": "2256231e-a250-440b-f4d0-3b504a8278c8"
      },
      "outputs": [
        {
          "data": {
            "text/plain": [
              "array([2, 4, 6, 8])"
            ]
          },
          "execution_count": 10,
          "metadata": {},
          "output_type": "execute_result"
        }
      ],
      "source": [
        "2*A #scalar"
      ]
    },
    {
      "cell_type": "code",
      "execution_count": null,
      "metadata": {
        "colab": {
          "base_uri": "https://localhost:8080/"
        },
        "id": "6SFE5COskxtX",
        "outputId": "74c57199-fab8-47d5-8312-b877aa37203d"
      },
      "outputs": [
        {
          "data": {
            "text/plain": [
              "[1, 2, 3, 4, 1, 2, 3, 4]"
            ]
          },
          "execution_count": 11,
          "metadata": {},
          "output_type": "execute_result"
        }
      ],
      "source": [
        "2*L"
      ]
    },
    {
      "cell_type": "code",
      "execution_count": null,
      "metadata": {
        "colab": {
          "base_uri": "https://localhost:8080/"
        },
        "id": "5T-I1x5Kk0Wh",
        "outputId": "6ffc5c0e-4001-41fd-8252-5c227e550bed"
      },
      "outputs": [
        {
          "data": {
            "text/plain": [
              "[1, 4, 9, 16]"
            ]
          },
          "execution_count": 12,
          "metadata": {},
          "output_type": "execute_result"
        }
      ],
      "source": [
        "l2 = [e*e for e in L]\n",
        "l2"
      ]
    },
    {
      "cell_type": "code",
      "execution_count": null,
      "metadata": {
        "colab": {
          "base_uri": "https://localhost:8080/"
        },
        "id": "j6xbiNvolM1P",
        "outputId": "ac78e62d-a8be-43d8-c55c-9446954502fa"
      },
      "outputs": [
        {
          "data": {
            "text/plain": [
              "array([ 1,  4,  9, 16])"
            ]
          },
          "execution_count": 13,
          "metadata": {},
          "output_type": "execute_result"
        }
      ],
      "source": [
        "A**2"
      ]
    },
    {
      "cell_type": "code",
      "execution_count": null,
      "metadata": {
        "colab": {
          "base_uri": "https://localhost:8080/"
        },
        "id": "7GKQby6mlVpg",
        "outputId": "3e6e07e8-c976-4b5f-85b5-634d9258fdc2"
      },
      "outputs": [
        {
          "data": {
            "text/plain": [
              "array([1.        , 1.41421356, 1.73205081, 2.        ])"
            ]
          },
          "execution_count": 15,
          "metadata": {},
          "output_type": "execute_result"
        }
      ],
      "source": [
        "np.sqrt(A)\n"
      ]
    },
    {
      "cell_type": "code",
      "execution_count": null,
      "metadata": {
        "colab": {
          "base_uri": "https://localhost:8080/"
        },
        "id": "wZ0ZP1ljlgk8",
        "outputId": "743f648d-894f-47ba-e065-cb321e641468"
      },
      "outputs": [
        {
          "data": {
            "text/plain": [
              "array([0.        , 0.69314718, 1.09861229, 1.38629436])"
            ]
          },
          "execution_count": 16,
          "metadata": {},
          "output_type": "execute_result"
        }
      ],
      "source": [
        "np.log(A)"
      ]
    },
    {
      "cell_type": "code",
      "execution_count": null,
      "metadata": {
        "colab": {
          "base_uri": "https://localhost:8080/"
        },
        "id": "JC5EkvXGljmw",
        "outputId": "f98c127e-39f5-447d-82e0-e39c1eae628d"
      },
      "outputs": [
        {
          "data": {
            "text/plain": [
              "array([0.76159416, 0.96402758, 0.99505475, 0.9993293 ])"
            ]
          },
          "execution_count": 17,
          "metadata": {},
          "output_type": "execute_result"
        }
      ],
      "source": [
        "np.tanh(A)"
      ]
    },
    {
      "cell_type": "code",
      "execution_count": null,
      "metadata": {
        "colab": {
          "base_uri": "https://localhost:8080/"
        },
        "id": "vv2W6Lpdlm5I",
        "outputId": "d6dd69d6-18c9-4296-d60a-320467ece751"
      },
      "outputs": [
        {
          "data": {
            "text/plain": [
              "array([90, 60,  0])"
            ]
          },
          "execution_count": 18,
          "metadata": {},
          "output_type": "execute_result"
        }
      ],
      "source": [
        "x = np.array([90,60,0])\n",
        "x"
      ]
    },
    {
      "cell_type": "code",
      "execution_count": null,
      "metadata": {
        "colab": {
          "base_uri": "https://localhost:8080/"
        },
        "id": "xdHofG5Vlt-X",
        "outputId": "daadfd08-b0e4-4270-b385-56d9732bbacc"
      },
      "outputs": [
        {
          "data": {
            "text/plain": [
              "array([ 0.89399666, -0.30481062,  0.        ])"
            ]
          },
          "execution_count": 20,
          "metadata": {},
          "output_type": "execute_result"
        }
      ],
      "source": [
        "res = np.sin(x)\n",
        "res"
      ]
    },
    {
      "cell_type": "code",
      "execution_count": null,
      "metadata": {
        "colab": {
          "base_uri": "https://localhost:8080/"
        },
        "id": "fznmazx7mSmv",
        "outputId": "6523e380-ecc5-4ddb-e77b-c7b65fb61e72"
      },
      "outputs": [
        {
          "data": {
            "text/plain": [
              "array([1.       , 0.8660254, 0.       ])"
            ]
          },
          "execution_count": 24,
          "metadata": {},
          "output_type": "execute_result"
        }
      ],
      "source": [
        "radians = np.deg2rad(x)\n",
        "res = np.sin(radians)\n",
        "res"
      ]
    },
    {
      "cell_type": "markdown",
      "metadata": {
        "id": "TOkpfjk-tDzL"
      },
      "source": [
        "#Dot Product"
      ]
    },
    {
      "cell_type": "code",
      "execution_count": null,
      "metadata": {
        "id": "H8_EQigztRIP"
      },
      "outputs": [],
      "source": [
        "dot = 0\n",
        "a = np.array([1,2,3])\n",
        "b = np.array([4,5,6])\n",
        "# res = [e*f for e,f in zip(a,b)]\n",
        "# res\n",
        "for e,f in zip(a,b):\n",
        "  dot+=e*f\n",
        "\n"
      ]
    },
    {
      "cell_type": "code",
      "execution_count": null,
      "metadata": {
        "colab": {
          "base_uri": "https://localhost:8080/"
        },
        "id": "nM4yUnRWujyK",
        "outputId": "a86e6e5d-4b68-43e4-9258-f1ec77b965e7"
      },
      "outputs": [
        {
          "data": {
            "text/plain": [
              "32"
            ]
          },
          "execution_count": 30,
          "metadata": {},
          "output_type": "execute_result"
        }
      ],
      "source": [
        "dot"
      ]
    },
    {
      "cell_type": "code",
      "execution_count": null,
      "metadata": {
        "colab": {
          "base_uri": "https://localhost:8080/"
        },
        "id": "t0RcQGnIu2zd",
        "outputId": "56d78b7a-b3fd-4e3a-f11d-5cab0414a75e"
      },
      "outputs": [
        {
          "data": {
            "text/plain": [
              "32"
            ]
          },
          "execution_count": 31,
          "metadata": {},
          "output_type": "execute_result"
        }
      ],
      "source": [
        "dot = 0\n",
        "for i in range(len(b)):\n",
        "  dot+= a[i]*b[i]\n",
        "dot"
      ]
    },
    {
      "cell_type": "code",
      "execution_count": null,
      "metadata": {
        "colab": {
          "base_uri": "https://localhost:8080/"
        },
        "id": "s1C00IKsvAm0",
        "outputId": "1f590645-d07c-431c-97a6-b7a835a01bfc"
      },
      "outputs": [
        {
          "data": {
            "text/plain": [
              "32"
            ]
          },
          "execution_count": 35,
          "metadata": {},
          "output_type": "execute_result"
        }
      ],
      "source": [
        "a*b\n",
        "np.sum(a*b)"
      ]
    },
    {
      "cell_type": "code",
      "execution_count": null,
      "metadata": {
        "colab": {
          "base_uri": "https://localhost:8080/"
        },
        "id": "C41VveVfvbFa",
        "outputId": "365d360e-b712-4a84-b6d6-6fa5c672931a"
      },
      "outputs": [
        {
          "data": {
            "text/plain": [
              "32"
            ]
          },
          "execution_count": 36,
          "metadata": {},
          "output_type": "execute_result"
        }
      ],
      "source": [
        "a.dot(b)"
      ]
    },
    {
      "cell_type": "code",
      "execution_count": null,
      "metadata": {
        "colab": {
          "base_uri": "https://localhost:8080/"
        },
        "id": "-88NEILuvgDg",
        "outputId": "1562f1ca-371f-46d3-e483-d9105c67be64"
      },
      "outputs": [
        {
          "data": {
            "text/plain": [
              "32"
            ]
          },
          "execution_count": 37,
          "metadata": {},
          "output_type": "execute_result"
        }
      ],
      "source": [
        "np.dot(a,b)"
      ]
    },
    {
      "cell_type": "code",
      "execution_count": null,
      "metadata": {
        "colab": {
          "base_uri": "https://localhost:8080/"
        },
        "id": "xuGfXJa1viHK",
        "outputId": "a67aaff9-ff40-4fc9-87c1-9f085765de21"
      },
      "outputs": [
        {
          "data": {
            "text/plain": [
              "32"
            ]
          },
          "execution_count": 38,
          "metadata": {},
          "output_type": "execute_result"
        }
      ],
      "source": [
        "a@b"
      ]
    },
    {
      "cell_type": "code",
      "execution_count": null,
      "metadata": {
        "colab": {
          "base_uri": "https://localhost:8080/"
        },
        "id": "GpRuT9udzIVR",
        "outputId": "d0da006e-b3db-4f39-ae3c-ba3036fe0f78"
      },
      "outputs": [
        {
          "data": {
            "text/plain": [
              "array([1, 4, 9])"
            ]
          },
          "execution_count": 39,
          "metadata": {},
          "output_type": "execute_result"
        }
      ],
      "source": [
        "a**2"
      ]
    },
    {
      "cell_type": "code",
      "execution_count": null,
      "metadata": {
        "colab": {
          "base_uri": "https://localhost:8080/"
        },
        "id": "3Ri0FSaNzw43",
        "outputId": "f54d611f-42ee-4f71-fe3f-0e5fe33222d8"
      },
      "outputs": [
        {
          "data": {
            "text/plain": [
              "3.7416573867739413"
            ]
          },
          "execution_count": 41,
          "metadata": {},
          "output_type": "execute_result"
        }
      ],
      "source": [
        "amag = np.sqrt((a*a).sum())\n",
        "amag"
      ]
    },
    {
      "cell_type": "code",
      "execution_count": null,
      "metadata": {
        "id": "S7U_on1cz8lS"
      },
      "outputs": [],
      "source": [
        "amag = np.linalg.norm(a)\n",
        "amag"
      ]
    },
    {
      "cell_type": "code",
      "execution_count": null,
      "metadata": {
        "colab": {
          "base_uri": "https://localhost:8080/"
        },
        "id": "dSFXJ8So0ojD",
        "outputId": "d5b9f2b5-ca41-4ffa-deab-541eab609f49"
      },
      "outputs": [
        {
          "data": {
            "text/plain": [
              "8.774964387392123"
            ]
          },
          "execution_count": 49,
          "metadata": {},
          "output_type": "execute_result"
        }
      ],
      "source": [
        "amag2 = np.linalg.norm(b)\n",
        "amag2"
      ]
    },
    {
      "cell_type": "code",
      "execution_count": null,
      "metadata": {
        "colab": {
          "base_uri": "https://localhost:8080/"
        },
        "id": "KhkbZTCK0DRN",
        "outputId": "ddd2179a-8242-403d-c16d-6ddec7d8b4bb"
      },
      "outputs": [
        {
          "data": {
            "text/plain": [
              "0.9746318461970762"
            ]
          },
          "execution_count": 51,
          "metadata": {},
          "output_type": "execute_result"
        }
      ],
      "source": [
        "cosangle = np.sum(a*b)/(np.linalg.norm(a)*np.linalg.norm(b))\n",
        "cosangle"
      ]
    },
    {
      "cell_type": "code",
      "execution_count": null,
      "metadata": {
        "colab": {
          "base_uri": "https://localhost:8080/"
        },
        "id": "XnoWgfij0xdD",
        "outputId": "d34cd8c2-19c8-49e1-f1de-724af11b75cc"
      },
      "outputs": [
        {
          "data": {
            "text/plain": [
              "0.017010534710929955"
            ]
          },
          "execution_count": 52,
          "metadata": {},
          "output_type": "execute_result"
        }
      ],
      "source": [
        "radians = np.deg2rad(cosangle)\n",
        "radians"
      ]
    },
    {
      "cell_type": "markdown",
      "metadata": {
        "id": "nRt-VxgEr9Ek"
      },
      "source": [
        "#Speed Test"
      ]
    },
    {
      "cell_type": "code",
      "execution_count": null,
      "metadata": {
        "colab": {
          "base_uri": "https://localhost:8080/"
        },
        "id": "hMd1BSHJr_lv",
        "outputId": "f8ce4b1e-6ee4-40a7-aec2-cd71eb92fac8"
      },
      "outputs": [
        {
          "name": "stdout",
          "output_type": "stream",
          "text": [
            "Slow dot product time: 5.999597\n",
            "Numpy dot product time: 0.384044\n",
            "Ratio (slow/np.dot): 15.62216048161148\n"
          ]
        }
      ],
      "source": [
        "from datetime import datetime\n",
        "import numpy as np\n",
        "\n",
        "a = np.random.randn(100)\n",
        "b = np.random.randn(100)\n",
        "T = 100000\n",
        "\n",
        "def slow_dotprod(a, b):\n",
        "    result = 0\n",
        "    for e, f in zip(a, b):\n",
        "        result += e * f\n",
        "    return result\n",
        "\n",
        "# Timing slow_dotprod\n",
        "t0 = datetime.now()\n",
        "for _ in range(T):\n",
        "    slow_dotprod(a, b)\n",
        "dt1 = datetime.now() - t0\n",
        "\n",
        "# Timing np.dot\n",
        "t0 = datetime.now()\n",
        "for _ in range(T):\n",
        "    a.dot(b)\n",
        "dt2 = datetime.now() - t0\n",
        "\n",
        "print(\"Slow dot product time:\", dt1.total_seconds())\n",
        "print(\"Numpy dot product time:\", dt2.total_seconds())\n",
        "\n",
        "# Ratio of slow to numpy dot product time\n",
        "print(\"Ratio (slow/np.dot):\", dt1.total_seconds() / dt2.total_seconds())\n"
      ]
    },
    {
      "cell_type": "markdown",
      "metadata": {
        "id": "sGWd_ZYhm22X"
      },
      "source": [
        "#Matrices"
      ]
    },
    {
      "cell_type": "code",
      "execution_count": null,
      "metadata": {
        "id": "N7u8XnLfnN9p"
      },
      "outputs": [],
      "source": [
        "import numpy as np"
      ]
    },
    {
      "cell_type": "code",
      "execution_count": null,
      "metadata": {
        "colab": {
          "base_uri": "https://localhost:8080/"
        },
        "id": "V-rI5fXAm5RV",
        "outputId": "6a5c34d7-ca78-4c9a-c87b-bb633f1baaae"
      },
      "outputs": [
        {
          "data": {
            "text/plain": [
              "[[1, 2], [3, 4]]"
            ]
          },
          "execution_count": 5,
          "metadata": {},
          "output_type": "execute_result"
        }
      ],
      "source": [
        "L = [[1,2],[3,4]]\n",
        "L"
      ]
    },
    {
      "cell_type": "code",
      "execution_count": null,
      "metadata": {
        "colab": {
          "base_uri": "https://localhost:8080/"
        },
        "id": "X2yO4Z1Hm_da",
        "outputId": "c0b8cf52-3123-4ba0-e14a-fdf71e153944"
      },
      "outputs": [
        {
          "data": {
            "text/plain": [
              "2"
            ]
          },
          "execution_count": 6,
          "metadata": {},
          "output_type": "execute_result"
        }
      ],
      "source": [
        "L[0][1]"
      ]
    },
    {
      "cell_type": "code",
      "execution_count": null,
      "metadata": {
        "colab": {
          "base_uri": "https://localhost:8080/"
        },
        "id": "v-dkfQrSnEdA",
        "outputId": "b011814f-55dd-49f3-c74b-c9a6b0f71980"
      },
      "outputs": [
        {
          "data": {
            "text/plain": [
              "array([[1, 2],\n",
              "       [3, 4]])"
            ]
          },
          "execution_count": 7,
          "metadata": {},
          "output_type": "execute_result"
        }
      ],
      "source": [
        "A = np.array([[1,2],[3,4]])\n",
        "A"
      ]
    },
    {
      "cell_type": "code",
      "execution_count": null,
      "metadata": {
        "colab": {
          "base_uri": "https://localhost:8080/"
        },
        "id": "ZtMPCrQ7nk12",
        "outputId": "e1b0ba14-f7e7-4ee4-fbed-747cbe9ac0ae"
      },
      "outputs": [
        {
          "data": {
            "text/plain": [
              "2"
            ]
          },
          "execution_count": 8,
          "metadata": {},
          "output_type": "execute_result"
        }
      ],
      "source": [
        "A[0][1]"
      ]
    },
    {
      "cell_type": "code",
      "execution_count": null,
      "metadata": {
        "colab": {
          "base_uri": "https://localhost:8080/"
        },
        "id": "AhFLaQZfoQnS",
        "outputId": "5a4bedab-7577-4a8e-834b-915bac74a6ce"
      },
      "outputs": [
        {
          "data": {
            "text/plain": [
              "2"
            ]
          },
          "execution_count": 9,
          "metadata": {},
          "output_type": "execute_result"
        }
      ],
      "source": [
        "A[0,1]"
      ]
    },
    {
      "cell_type": "code",
      "execution_count": null,
      "metadata": {
        "colab": {
          "base_uri": "https://localhost:8080/"
        },
        "id": "BcylA8idoT96",
        "outputId": "43c02abe-86e7-460b-9611-d88272ade2ad"
      },
      "outputs": [
        {
          "data": {
            "text/plain": [
              "array([1, 3])"
            ]
          },
          "execution_count": 10,
          "metadata": {},
          "output_type": "execute_result"
        }
      ],
      "source": [
        "A[:,0]"
      ]
    },
    {
      "cell_type": "code",
      "execution_count": null,
      "metadata": {
        "colab": {
          "base_uri": "https://localhost:8080/"
        },
        "id": "vRsIE-s1oYkg",
        "outputId": "adcbfee3-1007-4318-a478-baded4ce0584"
      },
      "outputs": [
        {
          "data": {
            "text/plain": [
              "array([2, 4])"
            ]
          },
          "execution_count": 11,
          "metadata": {},
          "output_type": "execute_result"
        }
      ],
      "source": [
        "A[:,1]"
      ]
    },
    {
      "cell_type": "code",
      "execution_count": null,
      "metadata": {
        "colab": {
          "base_uri": "https://localhost:8080/"
        },
        "id": "OHNtfJm287T8",
        "outputId": "4c4f586c-baee-4aec-fab7-78eaf02c21fa"
      },
      "outputs": [
        {
          "data": {
            "text/plain": [
              "array([[1, 3],\n",
              "       [2, 4]])"
            ]
          },
          "execution_count": 12,
          "metadata": {},
          "output_type": "execute_result"
        }
      ],
      "source": [
        "A.T\n"
      ]
    },
    {
      "cell_type": "code",
      "execution_count": null,
      "metadata": {
        "colab": {
          "base_uri": "https://localhost:8080/"
        },
        "id": "ENXbEN-T8_MY",
        "outputId": "bc4b6bbd-2b72-4129-d26b-d496ba0eee20"
      },
      "outputs": [
        {
          "data": {
            "text/plain": [
              "array([[ 2.71828183,  7.3890561 ],\n",
              "       [20.08553692, 54.59815003]])"
            ]
          },
          "execution_count": 13,
          "metadata": {},
          "output_type": "execute_result"
        }
      ],
      "source": [
        "np.exp(A)"
      ]
    },
    {
      "cell_type": "code",
      "execution_count": null,
      "metadata": {
        "colab": {
          "base_uri": "https://localhost:8080/"
        },
        "id": "1B8RTK-_9CwI",
        "outputId": "7cfbda23-091c-4dca-85df-60524b5d7ad5"
      },
      "outputs": [
        {
          "data": {
            "text/plain": [
              "array([[ 2.71828183,  7.3890561 ],\n",
              "       [20.08553692, 54.59815003]])"
            ]
          },
          "execution_count": 14,
          "metadata": {},
          "output_type": "execute_result"
        }
      ],
      "source": [
        "np.exp(L)"
      ]
    },
    {
      "cell_type": "code",
      "execution_count": null,
      "metadata": {
        "colab": {
          "base_uri": "https://localhost:8080/"
        },
        "id": "udZACo0e9oj8",
        "outputId": "a0c9402a-d3ef-4207-8a44-d7529145d40e"
      },
      "outputs": [
        {
          "data": {
            "text/plain": [
              "array([[1, 2, 3],\n",
              "       [4, 5, 6]])"
            ]
          },
          "execution_count": 15,
          "metadata": {},
          "output_type": "execute_result"
        }
      ],
      "source": [
        "B = np.array([[1,2,3],[4,5,6]])\n",
        "B"
      ]
    },
    {
      "cell_type": "code",
      "execution_count": null,
      "metadata": {
        "colab": {
          "base_uri": "https://localhost:8080/"
        },
        "id": "TKH9-IsN9vQk",
        "outputId": "fb945b1b-eef9-4d34-ec2d-f2ad5d05f12a"
      },
      "outputs": [
        {
          "data": {
            "text/plain": [
              "array([[ 9, 12, 15],\n",
              "       [19, 26, 33]])"
            ]
          },
          "execution_count": 16,
          "metadata": {},
          "output_type": "execute_result"
        }
      ],
      "source": [
        "A.dot(B)"
      ]
    },
    {
      "cell_type": "code",
      "execution_count": null,
      "metadata": {
        "colab": {
          "base_uri": "https://localhost:8080/"
        },
        "id": "lON-7u61-jub",
        "outputId": "3a18708f-6855-490b-d120-dabd5f178424"
      },
      "outputs": [
        {
          "data": {
            "text/plain": [
              "-2.0000000000000004"
            ]
          },
          "execution_count": 17,
          "metadata": {},
          "output_type": "execute_result"
        }
      ],
      "source": [
        "np.linalg.det(A)"
      ]
    },
    {
      "cell_type": "code",
      "execution_count": null,
      "metadata": {
        "colab": {
          "base_uri": "https://localhost:8080/"
        },
        "id": "LwjcOt9v-_XD",
        "outputId": "f8f824eb-b7a3-4177-d2ee-cccc491ed7f9"
      },
      "outputs": [
        {
          "data": {
            "text/plain": [
              "array([[-2. ,  1. ],\n",
              "       [ 1.5, -0.5]])"
            ]
          },
          "execution_count": 19,
          "metadata": {},
          "output_type": "execute_result"
        }
      ],
      "source": [
        "np.linalg.inv(A)"
      ]
    },
    {
      "cell_type": "code",
      "execution_count": null,
      "metadata": {
        "colab": {
          "base_uri": "https://localhost:8080/"
        },
        "id": "6dLiXCiK_X1A",
        "outputId": "3c07fabd-40d5-4f98-d900-bf4657dbbc5e"
      },
      "outputs": [
        {
          "data": {
            "text/plain": [
              "array([[1.00000000e+00, 0.00000000e+00],\n",
              "       [1.11022302e-16, 1.00000000e+00]])"
            ]
          },
          "execution_count": 20,
          "metadata": {},
          "output_type": "execute_result"
        }
      ],
      "source": [
        "np.linalg.inv(A).dot(A) #identity matrix"
      ]
    },
    {
      "cell_type": "code",
      "execution_count": null,
      "metadata": {
        "colab": {
          "base_uri": "https://localhost:8080/"
        },
        "id": "2M6c7dXX_99k",
        "outputId": "80e2e29d-dc07-42ea-d058-7cb2d7a002b1"
      },
      "outputs": [
        {
          "data": {
            "text/plain": [
              "6"
            ]
          },
          "execution_count": 21,
          "metadata": {},
          "output_type": "execute_result"
        }
      ],
      "source": [
        "np.trace(B)"
      ]
    },
    {
      "cell_type": "code",
      "execution_count": null,
      "metadata": {
        "colab": {
          "base_uri": "https://localhost:8080/"
        },
        "id": "WyHAXJnMAByG",
        "outputId": "8a52f541-53eb-4d4c-9890-4734e34ec76d"
      },
      "outputs": [
        {
          "data": {
            "text/plain": [
              "array([1, 5])"
            ]
          },
          "execution_count": 22,
          "metadata": {},
          "output_type": "execute_result"
        }
      ],
      "source": [
        "np.diag(B)"
      ]
    },
    {
      "cell_type": "code",
      "execution_count": null,
      "metadata": {
        "colab": {
          "base_uri": "https://localhost:8080/"
        },
        "id": "Zt9bxQvGAESE",
        "outputId": "16c4c09f-a8ee-4ecb-9235-43edcb573e96"
      },
      "outputs": [
        {
          "data": {
            "text/plain": [
              "array([[1, 0, 0],\n",
              "       [0, 2, 0],\n",
              "       [0, 0, 3]])"
            ]
          },
          "execution_count": 23,
          "metadata": {},
          "output_type": "execute_result"
        }
      ],
      "source": [
        "np.diag([1,2,3])"
      ]
    },
    {
      "cell_type": "code",
      "execution_count": null,
      "metadata": {
        "colab": {
          "base_uri": "https://localhost:8080/"
        },
        "id": "lk2h2_GjAIMA",
        "outputId": "d29879a5-6380-4b15-dd47-64c2b93640f4"
      },
      "outputs": [
        {
          "data": {
            "text/plain": [
              "EigResult(eigenvalues=array([-0.37228132,  5.37228132]), eigenvectors=array([[-0.82456484, -0.41597356],\n",
              "       [ 0.56576746, -0.90937671]]))"
            ]
          },
          "execution_count": 25,
          "metadata": {},
          "output_type": "execute_result"
        }
      ],
      "source": [
        "np.linalg.eig(A)"
      ]
    },
    {
      "cell_type": "code",
      "execution_count": null,
      "metadata": {
        "id": "JQJVQOkQAon9"
      },
      "outputs": [],
      "source": [
        "EV, Vec = np.linalg.eig(A)"
      ]
    },
    {
      "cell_type": "code",
      "execution_count": null,
      "metadata": {
        "colab": {
          "base_uri": "https://localhost:8080/"
        },
        "id": "T3PspzUHAt3U",
        "outputId": "35cda305-c9d0-4c10-e375-3f57c65df0c5"
      },
      "outputs": [
        {
          "data": {
            "text/plain": [
              "array([-0.37228132,  5.37228132])"
            ]
          },
          "execution_count": 27,
          "metadata": {},
          "output_type": "execute_result"
        }
      ],
      "source": [
        "EV"
      ]
    },
    {
      "cell_type": "code",
      "execution_count": null,
      "metadata": {
        "colab": {
          "base_uri": "https://localhost:8080/"
        },
        "id": "Zn7EDeByAv8M",
        "outputId": "3a437a60-969e-45e6-8463-2a9b2a0752f7"
      },
      "outputs": [
        {
          "data": {
            "text/plain": [
              "array([[-0.82456484, -0.41597356],\n",
              "       [ 0.56576746, -0.90937671]])"
            ]
          },
          "execution_count": 28,
          "metadata": {},
          "output_type": "execute_result"
        }
      ],
      "source": [
        "Vec"
      ]
    },
    {
      "cell_type": "code",
      "execution_count": null,
      "metadata": {
        "colab": {
          "base_uri": "https://localhost:8080/"
        },
        "id": "HoBXmFgSAyMI",
        "outputId": "753fa549-0ded-4468-a5a7-6b84c0caff93"
      },
      "outputs": [
        {
          "data": {
            "text/plain": [
              "(array([ 0.30697009, -0.21062466]), array([ 0.30697009, -0.21062466]))"
            ]
          },
          "execution_count": 37,
          "metadata": {},
          "output_type": "execute_result"
        }
      ],
      "source": [
        "Vec[:,0]*EV[0],A@Vec[:, 0]\n"
      ]
    },
    {
      "cell_type": "code",
      "execution_count": null,
      "metadata": {
        "colab": {
          "base_uri": "https://localhost:8080/"
        },
        "id": "rGK7praLDj4I",
        "outputId": "f831a556-2d14-43ae-efd5-7b4885169a64"
      },
      "outputs": [
        {
          "data": {
            "text/plain": [
              "array([ True, False])"
            ]
          },
          "execution_count": 38,
          "metadata": {},
          "output_type": "execute_result"
        }
      ],
      "source": [
        "Vec[:,0]*EV[0]==A@Vec[:, 0]"
      ]
    },
    {
      "cell_type": "code",
      "execution_count": null,
      "metadata": {
        "colab": {
          "base_uri": "https://localhost:8080/"
        },
        "id": "z7hwljUqDqOd",
        "outputId": "68621e8d-21f7-4b54-c75e-d5d0dec20759"
      },
      "outputs": [
        {
          "data": {
            "text/plain": [
              "True"
            ]
          },
          "execution_count": 39,
          "metadata": {},
          "output_type": "execute_result"
        }
      ],
      "source": [
        "np.allclose(Vec[:,0]*EV[0],A@Vec[:, 0])"
      ]
    },
    {
      "cell_type": "code",
      "execution_count": null,
      "metadata": {
        "id": "6ItMlySlKRzk"
      },
      "outputs": [],
      "source": [
        "A = np.array([[1,1],[1.5,4]])\n",
        "B = np.array([2200,5050])"
      ]
    },
    {
      "cell_type": "code",
      "execution_count": null,
      "metadata": {
        "colab": {
          "base_uri": "https://localhost:8080/"
        },
        "id": "tALsBTJ_KfAF",
        "outputId": "8c9f5047-bdad-44ab-8c67-2a40e3ea87a1"
      },
      "outputs": [
        {
          "data": {
            "text/plain": [
              "array([1500.,  700.])"
            ]
          },
          "execution_count": 42,
          "metadata": {},
          "output_type": "execute_result"
        }
      ],
      "source": [
        "res = np.linalg.inv(A).dot(B)\n",
        "res"
      ]
    },
    {
      "cell_type": "code",
      "execution_count": null,
      "metadata": {
        "colab": {
          "base_uri": "https://localhost:8080/"
        },
        "id": "ps_uwBavKnh6",
        "outputId": "765b7416-e9b9-4939-c1b5-a1677249d1c5"
      },
      "outputs": [
        {
          "data": {
            "text/plain": [
              "array([1500.,  700.])"
            ]
          },
          "execution_count": 44,
          "metadata": {},
          "output_type": "execute_result"
        }
      ],
      "source": [
        "np.linalg.solve(A,B) #doesnt solve singular matrix i.e., doesnt have an inverse"
      ]
    },
    {
      "cell_type": "markdown",
      "metadata": {
        "id": "F_JXH1o6Hk93"
      },
      "source": [
        "#Generating Data"
      ]
    },
    {
      "cell_type": "code",
      "execution_count": null,
      "metadata": {
        "id": "lrRn3ux4HoLc"
      },
      "outputs": [],
      "source": [
        "import numpy as np"
      ]
    },
    {
      "cell_type": "code",
      "execution_count": null,
      "metadata": {
        "colab": {
          "base_uri": "https://localhost:8080/"
        },
        "id": "EFdswnw7Hxsv",
        "outputId": "90282a21-85ff-4bae-aebc-4884a4d4ecf6"
      },
      "outputs": [
        {
          "output_type": "execute_result",
          "data": {
            "text/plain": [
              "array([[0., 0., 0.],\n",
              "       [0., 0., 0.],\n",
              "       [0., 0., 0.]])"
            ]
          },
          "metadata": {},
          "execution_count": 3
        }
      ],
      "source": [
        "np.zeros((3,3))"
      ]
    },
    {
      "cell_type": "code",
      "execution_count": null,
      "metadata": {
        "colab": {
          "base_uri": "https://localhost:8080/"
        },
        "id": "jcRaj3ymH_hF",
        "outputId": "57f90175-a590-478c-b112-7583cc786a2c"
      },
      "outputs": [
        {
          "output_type": "execute_result",
          "data": {
            "text/plain": [
              "array([[1., 1., 1., 1.],\n",
              "       [1., 1., 1., 1.],\n",
              "       [1., 1., 1., 1.],\n",
              "       [1., 1., 1., 1.]])"
            ]
          },
          "metadata": {},
          "execution_count": 4
        }
      ],
      "source": [
        "np.ones((4,4))"
      ]
    },
    {
      "cell_type": "code",
      "execution_count": null,
      "metadata": {
        "colab": {
          "base_uri": "https://localhost:8080/"
        },
        "id": "cNkvtfmPICG2",
        "outputId": "1c2a280d-3a7f-4797-92f9-f22fb0341f99"
      },
      "outputs": [
        {
          "output_type": "execute_result",
          "data": {
            "text/plain": [
              "array([[12., 12.],\n",
              "       [12., 12.]])"
            ]
          },
          "metadata": {},
          "execution_count": 5
        }
      ],
      "source": [
        "12*np.ones((2,2))"
      ]
    },
    {
      "cell_type": "code",
      "execution_count": null,
      "metadata": {
        "colab": {
          "base_uri": "https://localhost:8080/"
        },
        "id": "sW-6HQ2AIQ4t",
        "outputId": "ba5046b6-1515-4bcd-eb1c-d41fa1f64776"
      },
      "outputs": [
        {
          "output_type": "execute_result",
          "data": {
            "text/plain": [
              "array([[1., 0., 0.],\n",
              "       [0., 1., 0.],\n",
              "       [0., 0., 1.]])"
            ]
          },
          "metadata": {},
          "execution_count": 6
        }
      ],
      "source": [
        "np.eye(3)"
      ]
    },
    {
      "cell_type": "code",
      "execution_count": null,
      "metadata": {
        "colab": {
          "base_uri": "https://localhost:8080/"
        },
        "id": "M2PXOVX2Im_j",
        "outputId": "a5ee3337-f198-436c-97ec-b59202a410d1"
      },
      "outputs": [
        {
          "output_type": "execute_result",
          "data": {
            "text/plain": [
              "array([-0.17551197, -0.81602064])"
            ]
          },
          "metadata": {},
          "execution_count": 7
        }
      ],
      "source": [
        "np.random.randn(2)"
      ]
    },
    {
      "cell_type": "code",
      "execution_count": null,
      "metadata": {
        "colab": {
          "base_uri": "https://localhost:8080/"
        },
        "id": "QTEC99a6Iqh3",
        "outputId": "decf1e1b-48ab-4153-d249-210cf98c4e01"
      },
      "outputs": [
        {
          "output_type": "execute_result",
          "data": {
            "text/plain": [
              "array([[-0.51930932,  1.11656124,  2.20955806],\n",
              "       [ 0.53518776, -0.93245833, -0.96750041],\n",
              "       [ 0.7979701 , -0.55048407,  0.40769292],\n",
              "       [ 0.40825868, -0.29157421, -0.24024602],\n",
              "       [-0.85778289,  0.79140777,  1.3853405 ]])"
            ]
          },
          "metadata": {},
          "execution_count": 8
        }
      ],
      "source": [
        "np.random.randn(5,3)"
      ]
    },
    {
      "cell_type": "code",
      "execution_count": null,
      "metadata": {
        "colab": {
          "base_uri": "https://localhost:8080/"
        },
        "id": "nkJJuEvRMSzb",
        "outputId": "97e8feee-7b07-4beb-cad4-561eea27f3b3"
      },
      "outputs": [
        {
          "output_type": "execute_result",
          "data": {
            "text/plain": [
              "array([[0.3456116 , 0.50467063, 0.86274572],\n",
              "       [0.42361263, 0.58052624, 0.15792799]])"
            ]
          },
          "metadata": {},
          "execution_count": 9
        }
      ],
      "source": [
        "np.random.random((2,3))"
      ]
    },
    {
      "cell_type": "code",
      "execution_count": null,
      "metadata": {
        "id": "sYngpXPgMXDt"
      },
      "outputs": [],
      "source": [
        "R = np.random.randn(10000)"
      ]
    },
    {
      "cell_type": "code",
      "execution_count": null,
      "metadata": {
        "colab": {
          "base_uri": "https://localhost:8080/"
        },
        "id": "OqxwpMROMeGs",
        "outputId": "24e59165-0d78-4c64-e05f-d202a56c9355"
      },
      "outputs": [
        {
          "output_type": "execute_result",
          "data": {
            "text/plain": [
              "-0.024457109662084905"
            ]
          },
          "metadata": {},
          "execution_count": 11
        }
      ],
      "source": [
        "R.mean()"
      ]
    },
    {
      "cell_type": "code",
      "execution_count": null,
      "metadata": {
        "colab": {
          "base_uri": "https://localhost:8080/"
        },
        "id": "xlidGlMmMhAT",
        "outputId": "cb073c27-eda3-4aca-d735-ea53f809ff6f"
      },
      "outputs": [
        {
          "output_type": "execute_result",
          "data": {
            "text/plain": [
              "-0.024457109662084905"
            ]
          },
          "metadata": {},
          "execution_count": 12
        }
      ],
      "source": [
        "np.mean(R)"
      ]
    },
    {
      "cell_type": "code",
      "execution_count": null,
      "metadata": {
        "colab": {
          "base_uri": "https://localhost:8080/"
        },
        "id": "A3_lhVyDMjjB",
        "outputId": "4b6943c9-50c1-4b35-adc7-f4f14651a13f"
      },
      "outputs": [
        {
          "output_type": "execute_result",
          "data": {
            "text/plain": [
              "0.9690181884284313"
            ]
          },
          "metadata": {},
          "execution_count": 13
        }
      ],
      "source": [
        "np.var(R)"
      ]
    },
    {
      "cell_type": "code",
      "execution_count": null,
      "metadata": {
        "colab": {
          "base_uri": "https://localhost:8080/"
        },
        "id": "LSWJhh96MlvC",
        "outputId": "197fe970-2618-4aa2-81a5-7996ec2d1ce3"
      },
      "outputs": [
        {
          "output_type": "execute_result",
          "data": {
            "text/plain": [
              "0.9843872146815151"
            ]
          },
          "metadata": {},
          "execution_count": 14
        }
      ],
      "source": [
        "np.std(R)"
      ]
    },
    {
      "cell_type": "code",
      "execution_count": null,
      "metadata": {
        "id": "-KmwcxGkN6UQ"
      },
      "outputs": [],
      "source": [
        "R = np.random.randn(10000,3)"
      ]
    },
    {
      "cell_type": "code",
      "execution_count": null,
      "metadata": {
        "colab": {
          "base_uri": "https://localhost:8080/"
        },
        "id": "a0LEQm1_N-4m",
        "outputId": "4c9dd4ee-a057-4586-fa70-a93ab91abbda"
      },
      "outputs": [
        {
          "output_type": "execute_result",
          "data": {
            "text/plain": [
              "array([ 0.00225099, -0.01235822,  0.01090384])"
            ]
          },
          "metadata": {},
          "execution_count": 16
        }
      ],
      "source": [
        "R.mean(axis=0) #mean of the columns i.e., 3"
      ]
    },
    {
      "cell_type": "code",
      "execution_count": null,
      "metadata": {
        "colab": {
          "base_uri": "https://localhost:8080/"
        },
        "id": "rIIlyjKwOFKK",
        "outputId": "0d6b4a47-1664-45c3-9d1d-ebea6469e9b0"
      },
      "outputs": [
        {
          "output_type": "execute_result",
          "data": {
            "text/plain": [
              "(10000,)"
            ]
          },
          "metadata": {},
          "execution_count": 18
        }
      ],
      "source": [
        "R.mean(axis=1).shape"
      ]
    },
    {
      "cell_type": "code",
      "execution_count": null,
      "metadata": {
        "colab": {
          "base_uri": "https://localhost:8080/"
        },
        "id": "nZehwb5zQcVD",
        "outputId": "e703ce97-1d34-4ca6-bb98-f56b1ef4994a"
      },
      "outputs": [
        {
          "data": {
            "text/plain": [
              "array([[ 0.80496609, -0.10491309,  0.75285413, ..., -0.53650116,\n",
              "        -0.12322314, -0.65136816],\n",
              "       [-0.10491309,  0.89606157, -0.00105815, ...,  0.12194898,\n",
              "         0.28030157,  0.32868511],\n",
              "       [ 0.75285413, -0.00105815,  0.71479277, ..., -0.49604627,\n",
              "        -0.08617922, -0.58238274],\n",
              "       ...,\n",
              "       [-0.53650116,  0.12194898, -0.49604627, ...,  0.36063962,\n",
              "         0.09770656,  0.44850369],\n",
              "       [-0.12322314,  0.28030157, -0.08617922, ...,  0.09770656,\n",
              "         0.09799314,  0.17271664],\n",
              "       [-0.65136816,  0.32868511, -0.58238274, ...,  0.44850369,\n",
              "         0.17271664,  0.5944345 ]])"
            ]
          },
          "execution_count": 25,
          "metadata": {},
          "output_type": "execute_result"
        }
      ],
      "source": [
        "np.cov(R)"
      ]
    },
    {
      "cell_type": "code",
      "execution_count": null,
      "metadata": {
        "colab": {
          "base_uri": "https://localhost:8080/"
        },
        "id": "1Uv6pgquQgID",
        "outputId": "c161f925-bd71-4939-cbc3-48daee85edc1"
      },
      "outputs": [
        {
          "data": {
            "text/plain": [
              "array([[ 1.01234495,  0.00940358,  0.00618094],\n",
              "       [ 0.00940358,  0.99359175, -0.00786719],\n",
              "       [ 0.00618094, -0.00786719,  1.0205448 ]])"
            ]
          },
          "execution_count": 26,
          "metadata": {},
          "output_type": "execute_result"
        }
      ],
      "source": [
        "np.cov(R.T)"
      ]
    },
    {
      "cell_type": "code",
      "execution_count": null,
      "metadata": {
        "colab": {
          "base_uri": "https://localhost:8080/"
        },
        "id": "OuWucpKSQmw4",
        "outputId": "fe0f6b91-2fe4-4369-8bdf-fe27a240e997"
      },
      "outputs": [
        {
          "data": {
            "text/plain": [
              "array([[ 1.01234495,  0.00940358,  0.00618094],\n",
              "       [ 0.00940358,  0.99359175, -0.00786719],\n",
              "       [ 0.00618094, -0.00786719,  1.0205448 ]])"
            ]
          },
          "execution_count": 27,
          "metadata": {},
          "output_type": "execute_result"
        }
      ],
      "source": [
        "np.cov(R,rowvar=False) #for columns to be vector observation otherwise rows are"
      ]
    },
    {
      "cell_type": "code",
      "execution_count": null,
      "metadata": {
        "colab": {
          "base_uri": "https://localhost:8080/"
        },
        "id": "ztZeyaQVQ08b",
        "outputId": "83b70c3f-10ea-4ed4-ae95-855d728ce495"
      },
      "outputs": [
        {
          "data": {
            "text/plain": [
              "array([[3, 5],\n",
              "       [3, 2]])"
            ]
          },
          "execution_count": 29,
          "metadata": {},
          "output_type": "execute_result"
        }
      ],
      "source": [
        "np.random.randint(2,6,size=(2,2))"
      ]
    },
    {
      "cell_type": "code",
      "execution_count": null,
      "metadata": {
        "colab": {
          "base_uri": "https://localhost:8080/"
        },
        "id": "SWN82s7ZQ93i",
        "outputId": "78d49acf-2223-4304-c55b-f12585f3f574"
      },
      "outputs": [
        {
          "data": {
            "text/plain": [
              "array([[3, 2, 5],\n",
              "       [3, 5, 4],\n",
              "       [5, 2, 2]])"
            ]
          },
          "execution_count": 31,
          "metadata": {},
          "output_type": "execute_result"
        }
      ],
      "source": [
        "np.random.randint(2,6,(3,3))"
      ]
    },
    {
      "cell_type": "code",
      "execution_count": null,
      "metadata": {
        "colab": {
          "base_uri": "https://localhost:8080/"
        },
        "id": "yww6bLJaRRBo",
        "outputId": "5f171f61-1757-46e8-d07c-69e2a766f2e2"
      },
      "outputs": [
        {
          "data": {
            "text/plain": [
              "array([[5, 6, 0],\n",
              "       [3, 7, 7],\n",
              "       [6, 7, 3]])"
            ]
          },
          "execution_count": 33,
          "metadata": {},
          "output_type": "execute_result"
        }
      ],
      "source": [
        "np.random.choice(8,(3,3))"
      ]
    },
    {
      "cell_type": "code",
      "execution_count": null,
      "metadata": {
        "colab": {
          "base_uri": "https://localhost:8080/"
        },
        "id": "Xta_qoBhTb7u",
        "outputId": "72f26dd6-2736-46e6-fa25-ae98a8e293e1"
      },
      "outputs": [
        {
          "data": {
            "text/plain": [
              "array([[1, 4, 4],\n",
              "       [3, 5, 2],\n",
              "       [4, 4, 3]])"
            ]
          },
          "execution_count": 36,
          "metadata": {},
          "output_type": "execute_result"
        }
      ],
      "source": [
        "np.random.choice(np.array([1,2,3,4,5]),size=(3,3),replace=True)"
      ]
    },
    {
      "cell_type": "code",
      "execution_count": null,
      "metadata": {
        "colab": {
          "base_uri": "https://localhost:8080/"
        },
        "id": "RRLsaa4uTqJa",
        "outputId": "f2b45e04-c51f-45b4-f103-c51356f7738d"
      },
      "outputs": [
        {
          "data": {
            "text/plain": [
              "array([[4, 5],\n",
              "       [2, 8]])"
            ]
          },
          "execution_count": 38,
          "metadata": {},
          "output_type": "execute_result"
        }
      ],
      "source": [
        "np.random.choice(12,(2,2),replace=False)"
      ]
    },
    {
      "cell_type": "markdown",
      "metadata": {
        "id": "1-CJ4vrmpGrd"
      },
      "source": [
        "#Numpy Exercise"
      ]
    },
    {
      "cell_type": "code",
      "execution_count": null,
      "metadata": {
        "colab": {
          "background_save": true,
          "base_uri": "https://localhost:8080/"
        },
        "id": "_vem9ykdpJKV",
        "outputId": "c375f52e-97d4-4bb7-fd9e-e2ddcf391c37"
      },
      "outputs": [
        {
          "name": "stdout",
          "output_type": "stream",
          "text": [
            "List matrix multiplication time: 1.294425\n",
            "Numpy arrays multiplication time: 0.267661\n",
            "total gap in btw: 4.836061286478045\n"
          ]
        }
      ],
      "source": [
        "import numpy as np\n",
        "from datetime import datetime\n",
        "\n",
        "T = 100000\n",
        "\n",
        "a = [[1,2],[3,4]]\n",
        "b = [[5,6],[7,8]]\n",
        "res = [[0,0],[0,0]]\n",
        "t0 = datetime.now()\n",
        "for _ in range(T):\n",
        "  for i in range(len(a)):\n",
        "    for j in range(len(b[0])):\n",
        "      for k in range(len(b)):\n",
        "        res[i][j]+= a[i][k]*b[k][j]\n",
        "dt1 = datetime.now()-t0\n",
        "\n",
        "x = np.array(a)\n",
        "y = np.array(b)\n",
        "\n",
        "t0 = datetime.now()\n",
        "for _ in range(T):\n",
        "  x.dot(b)\n",
        "dt2 = datetime.now()-t0\n",
        "\n",
        "print(\"List matrix multiplication time:\",dt1.total_seconds())\n",
        "print(\"Numpy arrays multiplication time:\",dt2.total_seconds())\n",
        "print(\"total gap in btw:\",dt1.total_seconds()/dt2.total_seconds())\n",
        "\n"
      ]
    }
  ],
  "metadata": {
    "colab": {
      "toc_visible": true,
      "provenance": [],
      "authorship_tag": "ABX9TyOshhrEEB6TU5/IdKHDTPxk",
      "include_colab_link": true
    },
    "kernelspec": {
      "display_name": "Python 3",
      "name": "python3"
    },
    "language_info": {
      "name": "python"
    }
  },
  "nbformat": 4,
  "nbformat_minor": 0
}