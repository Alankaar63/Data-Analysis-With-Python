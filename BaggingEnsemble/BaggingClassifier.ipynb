{
  "nbformat": 4,
  "nbformat_minor": 0,
  "metadata": {
    "colab": {
      "provenance": []
    },
    "kernelspec": {
      "name": "python3",
      "display_name": "Python 3"
    },
    "language_info": {
      "name": "python"
    }
  },
  "cells": [
    {
      "cell_type": "code",
      "execution_count": 1,
      "metadata": {
        "id": "_ACOYFtEoYgA"
      },
      "outputs": [],
      "source": [
        "import pandas as pd\n",
        "import numpy as np\n",
        "import matplotlib.pyplot as plt"
      ]
    },
    {
      "cell_type": "code",
      "source": [
        "from sklearn.datasets import make_classification\n",
        "\n",
        "X,y = make_classification(n_samples=10000,n_features=10,n_informative=3,random_state=42)"
      ],
      "metadata": {
        "id": "ysi6GOiRoh5A"
      },
      "execution_count": 3,
      "outputs": []
    },
    {
      "cell_type": "code",
      "source": [
        "from sklearn.model_selection import train_test_split\n",
        "X_train,X_test,y_train,y_test = train_test_split(X,y,test_size=0.2,random_state=42)"
      ],
      "metadata": {
        "id": "S5XR6AgXpQ2B"
      },
      "execution_count": 4,
      "outputs": []
    },
    {
      "cell_type": "code",
      "source": [
        "from sklearn.tree import DecisionTreeClassifier\n",
        "from sklearn.ensemble import BaggingClassifier\n",
        "from sklearn.svm import SVC\n",
        "from sklearn.neighbors import KNeighborsClassifier\n",
        "from sklearn.metrics import accuracy_score"
      ],
      "metadata": {
        "id": "TVWC5XFhpsAx"
      },
      "execution_count": 5,
      "outputs": []
    },
    {
      "cell_type": "code",
      "source": [
        "dt = DecisionTreeClassifier()\n",
        "dt.fit(X_train,y_train)\n",
        "y_pred1 = dt.predict(X_test)\n",
        "accuracy_score(y_pred1,y_test)"
      ],
      "metadata": {
        "colab": {
          "base_uri": "https://localhost:8080/"
        },
        "id": "yBEqz5dpqKQ-",
        "outputId": "d63a3a43-66d3-4482-d11d-5bc94e640a04"
      },
      "execution_count": 6,
      "outputs": [
        {
          "output_type": "execute_result",
          "data": {
            "text/plain": [
              "0.928"
            ]
          },
          "metadata": {},
          "execution_count": 6
        }
      ]
    },
    {
      "cell_type": "code",
      "source": [
        "svc = SVC()\n",
        "svc.fit(X_train,y_train)\n",
        "ypred2 = svc.predict(X_test)\n",
        "accuracy_score(ypred2,y_test)"
      ],
      "metadata": {
        "colab": {
          "base_uri": "https://localhost:8080/"
        },
        "id": "ThK3BbQfq0A0",
        "outputId": "f0d4259e-8f29-4920-f4d6-5f1cf5dc0d9d"
      },
      "execution_count": 7,
      "outputs": [
        {
          "output_type": "execute_result",
          "data": {
            "text/plain": [
              "0.9255"
            ]
          },
          "metadata": {},
          "execution_count": 7
        }
      ]
    },
    {
      "cell_type": "code",
      "source": [
        "knn = KNeighborsClassifier()\n",
        "knn.fit(X_train,y_train)\n",
        "ypred3 = knn.predict(X_test)\n",
        "accuracy_score(ypred3,y_test)"
      ],
      "metadata": {
        "colab": {
          "base_uri": "https://localhost:8080/"
        },
        "id": "yHTGPge4q-y8",
        "outputId": "e44c7f3d-6aa8-4b20-9ca0-3e7db467894d"
      },
      "execution_count": 8,
      "outputs": [
        {
          "output_type": "execute_result",
          "data": {
            "text/plain": [
              "0.91"
            ]
          },
          "metadata": {},
          "execution_count": 8
        }
      ]
    },
    {
      "cell_type": "markdown",
      "source": [
        "**Bagging with Bootsrap Aggregation**\n"
      ],
      "metadata": {
        "id": "bOluAK96rKJy"
      }
    },
    {
      "cell_type": "code",
      "source": [
        "bc = BaggingClassifier(\n",
        "    estimator=DecisionTreeClassifier(),\n",
        "  n_estimators = 500,\n",
        "    bootstrap = True,\n",
        "    max_samples = 0.25 #that is out of 8000 training data rows we'll be having 2000 here\n",
        "\n",
        ")\n",
        "bc.fit(X_train,y_train)\n",
        "ypred = bc.predict(X_test)\n",
        "accuracy_score(ypred,y_test)"
      ],
      "metadata": {
        "colab": {
          "base_uri": "https://localhost:8080/"
        },
        "id": "gnZlUQEbrOn9",
        "outputId": "b02a654f-f000-4d89-f998-43bfb4c93b79"
      },
      "execution_count": 10,
      "outputs": [
        {
          "output_type": "execute_result",
          "data": {
            "text/plain": [
              "0.9445"
            ]
          },
          "metadata": {},
          "execution_count": 10
        }
      ]
    },
    {
      "cell_type": "markdown",
      "source": [
        "**Pasting**"
      ],
      "metadata": {
        "id": "bJQUxI9JsvH4"
      }
    },
    {
      "cell_type": "code",
      "source": [
        "bc = BaggingClassifier(\n",
        "    estimator=DecisionTreeClassifier(),\n",
        "  n_estimators = 500,\n",
        "    bootstrap = False,\n",
        "    max_samples = 0.25,\n",
        "    verbose = 1,\n",
        "    n_jobs = -1\n",
        "\n",
        ")\n",
        "bc.fit(X_train,y_train)\n",
        "ypred = bc.predict(X_test)\n",
        "accuracy_score(ypred,y_test)"
      ],
      "metadata": {
        "colab": {
          "base_uri": "https://localhost:8080/"
        },
        "id": "23O3E2wVsub_",
        "outputId": "25b9b98f-dda3-4e36-9684-572c34e1b0e9"
      },
      "execution_count": 14,
      "outputs": [
        {
          "output_type": "stream",
          "name": "stderr",
          "text": [
            "[Parallel(n_jobs=2)]: Using backend LokyBackend with 2 concurrent workers.\n",
            "[Parallel(n_jobs=2)]: Done   2 out of   2 | elapsed:   10.4s finished\n",
            "[Parallel(n_jobs=2)]: Using backend LokyBackend with 2 concurrent workers.\n",
            "[Parallel(n_jobs=2)]: Done   2 out of   2 | elapsed:    0.2s finished\n"
          ]
        },
        {
          "output_type": "execute_result",
          "data": {
            "text/plain": [
              "0.9475"
            ]
          },
          "metadata": {},
          "execution_count": 14
        }
      ]
    },
    {
      "cell_type": "code",
      "source": [
        "bc.estimators_samples_[0].shape"
      ],
      "metadata": {
        "colab": {
          "base_uri": "https://localhost:8080/"
        },
        "id": "pDbBuzNhueBo",
        "outputId": "79d85358-15b3-4d15-c774-18749eb66d95"
      },
      "execution_count": 15,
      "outputs": [
        {
          "output_type": "execute_result",
          "data": {
            "text/plain": [
              "(2000,)"
            ]
          },
          "metadata": {},
          "execution_count": 15
        }
      ]
    },
    {
      "cell_type": "markdown",
      "source": [
        "**Random Subspaces**"
      ],
      "metadata": {
        "id": "82VPC02suTho"
      }
    },
    {
      "cell_type": "code",
      "source": [
        "bc = BaggingClassifier(\n",
        "    estimator=DecisionTreeClassifier(),\n",
        "  n_estimators = 500,\n",
        "    bootstrap = False,\n",
        "    max_samples = 1,\n",
        "    verbose = 1,\n",
        "    n_jobs = -1 ,\n",
        "    bootstrap_features = True,\n",
        "    max_features = 0.5\n",
        "\n",
        ")\n",
        "bc.fit(X_train,y_train)\n",
        "ypred = bc.predict(X_test)\n",
        "accuracy_score(ypred,y_test)"
      ],
      "metadata": {
        "colab": {
          "base_uri": "https://localhost:8080/"
        },
        "id": "0J2ftdHguXXo",
        "outputId": "3aaa62b3-af73-46fb-e9d9-a30df26d1246"
      },
      "execution_count": 16,
      "outputs": [
        {
          "output_type": "stream",
          "name": "stderr",
          "text": [
            "[Parallel(n_jobs=2)]: Using backend LokyBackend with 2 concurrent workers.\n",
            "[Parallel(n_jobs=2)]: Done   2 out of   2 | elapsed:    2.8s finished\n",
            "[Parallel(n_jobs=2)]: Using backend LokyBackend with 2 concurrent workers.\n",
            "[Parallel(n_jobs=2)]: Done   2 out of   2 | elapsed:    0.2s finished\n"
          ]
        },
        {
          "output_type": "execute_result",
          "data": {
            "text/plain": [
              "0.5015"
            ]
          },
          "metadata": {},
          "execution_count": 16
        }
      ]
    },
    {
      "cell_type": "markdown",
      "source": [
        "**Random Patches**"
      ],
      "metadata": {
        "id": "qhXv6Jf7vbYW"
      }
    },
    {
      "cell_type": "code",
      "source": [
        "bc = BaggingClassifier(\n",
        "    estimator=DecisionTreeClassifier(),\n",
        "  n_estimators = 500,\n",
        "    bootstrap = True,\n",
        "    max_samples = 0.25,\n",
        "    n_jobs = -1 ,\n",
        "    bootstrap_features = True,\n",
        "    max_features = 0.5\n",
        "\n",
        ")\n",
        "bc.fit(X_train,y_train)\n",
        "ypred = bc.predict(X_test)\n",
        "accuracy_score(ypred,y_test)"
      ],
      "metadata": {
        "colab": {
          "base_uri": "https://localhost:8080/"
        },
        "id": "eiVsC4KYvat1",
        "outputId": "00dd3505-1834-408a-d931-e59703443cff"
      },
      "execution_count": 17,
      "outputs": [
        {
          "output_type": "execute_result",
          "data": {
            "text/plain": [
              "0.9355"
            ]
          },
          "metadata": {},
          "execution_count": 17
        }
      ]
    },
    {
      "cell_type": "markdown",
      "source": [
        "**Out Of Bagging Score (OOB)**"
      ],
      "metadata": {
        "id": "_38nks6fx23K"
      }
    },
    {
      "cell_type": "code",
      "source": [
        "bc = BaggingClassifier(\n",
        "    estimator=DecisionTreeClassifier(),\n",
        "  n_estimators = 500,\n",
        "    bootstrap = True,\n",
        "    oob_score = True,\n",
        "    max_samples = 0.25\n",
        "\n",
        ")\n",
        "bc.fit(X_train,y_train)\n",
        "ypred = bc.predict(X_test)\n",
        "accuracy_score(ypred,y_test)"
      ],
      "metadata": {
        "colab": {
          "base_uri": "https://localhost:8080/"
        },
        "id": "OQHcNqLwx-cV",
        "outputId": "8d0a2243-a106-4189-a790-a0240e496fc1"
      },
      "execution_count": 18,
      "outputs": [
        {
          "output_type": "execute_result",
          "data": {
            "text/plain": [
              "0.9455"
            ]
          },
          "metadata": {},
          "execution_count": 18
        }
      ]
    },
    {
      "cell_type": "markdown",
      "source": [
        "**GridSearchCV**"
      ],
      "metadata": {
        "id": "lOhBqKJZ1s7j"
      }
    },
    {
      "cell_type": "code",
      "source": [
        "# from sklearn.model_selection import GridSearchCV\n",
        "# params = {\n",
        "#     'n_estimators' : [100, 200, 300, 400, 500],\n",
        "#     'max_samples' : [0.1, 0.25, 0.5, 0.75, 1],\n",
        "#     'bootstrap' : [True, False],\n",
        "#     'max_features' : [0.1, 0.25, 0.5, 0.75, 1],\n",
        "#     'bootstrap_features' : [True, False]\n",
        "# }\n",
        "# search = GridSearchCV(BaggingClassifier(), params, cv=5)\n",
        "# search.fit(X_train, y_train)"
      ],
      "metadata": {
        "id": "BBGPifzv1vyR"
      },
      "execution_count": 20,
      "outputs": []
    }
  ]
}