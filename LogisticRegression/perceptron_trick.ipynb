{
  "nbformat": 4,
  "nbformat_minor": 0,
  "metadata": {
    "colab": {
      "provenance": []
    },
    "kernelspec": {
      "name": "python3",
      "display_name": "Python 3"
    },
    "language_info": {
      "name": "python"
    }
  },
  "cells": [
    {
      "cell_type": "code",
      "source": [
        "import numpy as np\n",
        "import matplotlib.pyplot as plt\n",
        "import pandas as pd"
      ],
      "metadata": {
        "id": "mXwQ8YkSeork"
      },
      "execution_count": null,
      "outputs": []
    },
    {
      "cell_type": "code",
      "source": [
        "from sklearn.datasets import make_classification\n",
        "X,y = make_classification(n_samples=100,n_features=2,n_informative=1,n_redundant=0,random_state=41,\n",
        "                          n_classes=2,n_clusters_per_class=1,class_sep=30,hypercube=False)"
      ],
      "metadata": {
        "id": "j75XlCv4et5y"
      },
      "execution_count": null,
      "outputs": []
    },
    {
      "cell_type": "code",
      "source": [
        "plt.figure(figsize=(12,8))\n",
        "plt.scatter(X[:,0],X[:,1],c=y,cmap='winter',s=100);"
      ],
      "metadata": {
        "id": "jx6WKhr2fT22"
      },
      "execution_count": null,
      "outputs": []
    },
    {
      "cell_type": "code",
      "source": [
        "def perceptron(X,y):\n",
        "  X = np.insert(X,0,1,axis=1)\n",
        "  weights = np.ones(X.shape[1])\n",
        "  lr = 0.1\n",
        "  for i in range(1000):\n",
        "    j = np.random.randint(0,100)\n",
        "    yhat = sets(np.dot(X[j],weights))\n",
        "    weights = weights + lr*(y[j]-yhat)*X[j]\n",
        "  return weights[0], weights[1:]"
      ],
      "metadata": {
        "id": "8USysMx7tzd6"
      },
      "execution_count": null,
      "outputs": []
    },
    {
      "cell_type": "code",
      "source": [
        "def sets(z):\n",
        "  return 1 if z>0 else 0"
      ],
      "metadata": {
        "id": "N2B_iXqKvO93"
      },
      "execution_count": null,
      "outputs": []
    },
    {
      "cell_type": "code",
      "source": [
        "intercept_, coef_ = perceptron(X,y)\n",
        "print(intercept_)\n",
        "print(coef_)"
      ],
      "metadata": {
        "id": "LzAVXhNkvsdn"
      },
      "execution_count": null,
      "outputs": []
    },
    {
      "cell_type": "code",
      "source": [
        "m = -(coef_[0]/coef_[1])\n",
        "b = -(intercept_/coef_[1])"
      ],
      "metadata": {
        "id": "nKAQBxlfxOuU"
      },
      "execution_count": null,
      "outputs": []
    },
    {
      "cell_type": "code",
      "source": [
        "X_input = np.linspace(-3,3)\n",
        "y_input = m*X_input+b"
      ],
      "metadata": {
        "id": "gzL6_thrxgFH"
      },
      "execution_count": null,
      "outputs": []
    },
    {
      "cell_type": "code",
      "source": [
        "plt.figure(figsize=(10,6))\n",
        "plt.plot(X_input,y_input,color='red',label='classified')\n",
        "plt.scatter(X[:,0],X[:,1],c=y,cmap='winter',s=100);\n",
        "plt.ylim(-3,2)"
      ],
      "metadata": {
        "id": "RqccyAEFw3ey"
      },
      "execution_count": null,
      "outputs": []
    },
    {
      "cell_type": "code",
      "source": [
        "def perceptron(X,y):\n",
        "  m = []\n",
        "  b = []\n",
        "  X = np.insert(X,0,1,axis=1)\n",
        "  weights = np.ones(X.shape[1])\n",
        "  lr = 0.01\n",
        "\n",
        "  for i in range(1000):\n",
        "    j = np.random.randint(0,100)\n",
        "    yhat = sets(np.dot(X[j],weights))\n",
        "    weights = weights + lr*(y[j]-yhat)*X[j]\n",
        "\n",
        "    m.append(-(weights[1]/weights[2]))\n",
        "    b.append(-(weights[0]/weights[2]))\n",
        "  return m, b\n"
      ],
      "metadata": {
        "id": "aZKxJFmNR_RA"
      },
      "execution_count": null,
      "outputs": []
    },
    {
      "cell_type": "code",
      "source": [
        "m,b = perceptron(X,y)"
      ],
      "metadata": {
        "id": "yuCmkJDmSpNV"
      },
      "execution_count": null,
      "outputs": []
    },
    {
      "cell_type": "code",
      "source": [
        "print([float(val) for val in m])\n",
        "print([float(val) for val in b])"
      ],
      "metadata": {
        "id": "vJWufwzUTxBK"
      },
      "execution_count": null,
      "outputs": []
    },
    {
      "cell_type": "code",
      "source": [
        "print(len(m), len(b))"
      ],
      "metadata": {
        "id": "F5c0Lz49UtWs"
      },
      "execution_count": null,
      "outputs": []
    },
    {
      "cell_type": "code",
      "source": [
        "# %matplotlib notebook\n",
        "from matplotlib.animation import FuncAnimation\n",
        "import matplotlib.animation as animation"
      ],
      "metadata": {
        "id": "ouj11m6sVBLt"
      },
      "execution_count": null,
      "outputs": []
    },
    {
      "cell_type": "code",
      "source": [
        "fig, ax = plt.subplots(figsize=(9,5))\n",
        "\n",
        "x_i = np.arange(-3, 3, 0.1)\n",
        "\n",
        "line, = ax.plot(x_i, x_i*m[0] + b[0], 'r-', linewidth=2)\n",
        "ax.scatter(X[:,0], X[:,1], c=y, cmap='winter', s=100)\n",
        "plt.ylim(-3,3)\n",
        "\n",
        "def update(i):\n",
        "    line.set_ydata(x_i * m[i] + b[i])\n",
        "    ax.set_xlabel(f\"Epoch {i+1}\")\n",
        "    return line,\n",
        "\n",
        "from IPython.display import HTML\n",
        "\n",
        "anim = FuncAnimation(fig, update, frames=len(m), interval=50, repeat=False)\n",
        "HTML(anim.to_jshtml())"
      ],
      "metadata": {
        "id": "9MQXr2h5Sutv"
      },
      "execution_count": null,
      "outputs": []
    },
    {
      "cell_type": "code",
      "source": [
        "from sklearn.linear_model import LogisticRegression\n",
        "lor = LogisticRegression()\n",
        "lor.fit(X,y)"
      ],
      "metadata": {
        "id": "bE-w_alVW8HI"
      },
      "execution_count": null,
      "outputs": []
    },
    {
      "cell_type": "code",
      "source": [
        "m = -(lor.coef_[0][0]/lor.coef_[0][1])\n",
        "b = -(lor.intercept_/lor.coef_[0][1])"
      ],
      "metadata": {
        "id": "QUgX_BJUXEoL"
      },
      "execution_count": null,
      "outputs": []
    },
    {
      "cell_type": "code",
      "source": [
        "X_input1 = np.linspace(-3,3,100)\n",
        "y_input1 = m*X_input1+b"
      ],
      "metadata": {
        "id": "MY6V1ozmXQW-"
      },
      "execution_count": null,
      "outputs": []
    },
    {
      "cell_type": "code",
      "source": [
        "plt.figure(figsize=(10,6))\n",
        "plt.plot(X_input,y_input,color='red',linewidth=3)\n",
        "plt.plot(X_input1,y_input1,color='black',linewidth=3)\n",
        "plt.scatter(X[:,0],X[:,1],c=y,cmap='winter',s=100)\n",
        "plt.ylim(-3,2)"
      ],
      "metadata": {
        "id": "E7Wh3XppXcnV"
      },
      "execution_count": null,
      "outputs": []
    }
  ]
}